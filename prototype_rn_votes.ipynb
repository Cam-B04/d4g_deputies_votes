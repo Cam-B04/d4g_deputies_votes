{
 "cells": [
  {
   "cell_type": "code",
   "execution_count": 2,
   "metadata": {},
   "outputs": [
    {
     "name": "stderr",
     "output_type": "stream",
     "text": [
      "/Users/besombes/env/ds_py39/lib/python3.9/site-packages/urllib3/__init__.py:35: NotOpenSSLWarning: urllib3 v2 only supports OpenSSL 1.1.1+, currently the 'ssl' module is compiled with 'LibreSSL 2.8.3'. See: https://github.com/urllib3/urllib3/issues/3020\n",
      "  warnings.warn(\n"
     ]
    }
   ],
   "source": [
    "import pandas as pd\n",
    "import numpy as np\n",
    "import matplotlib.pyplot as plt\n",
    "import seaborn as sns\n",
    "import requests"
   ]
  },
  {
   "cell_type": "code",
   "execution_count": 3,
   "metadata": {},
   "outputs": [
    {
     "data": {
      "text/html": [
       "<div>\n",
       "<style scoped>\n",
       "    .dataframe tbody tr th:only-of-type {\n",
       "        vertical-align: middle;\n",
       "    }\n",
       "\n",
       "    .dataframe tbody tr th {\n",
       "        vertical-align: top;\n",
       "    }\n",
       "\n",
       "    .dataframe thead th {\n",
       "        text-align: right;\n",
       "    }\n",
       "</style>\n",
       "<table border=\"1\" class=\"dataframe\">\n",
       "  <thead>\n",
       "    <tr style=\"text-align: right;\">\n",
       "      <th></th>\n",
       "      <th>vote_id</th>\n",
       "      <th>for_or_against</th>\n",
       "      <th>vote_topic</th>\n",
       "      <th>vote_date</th>\n",
       "      <th>politic_name</th>\n",
       "    </tr>\n",
       "  </thead>\n",
       "  <tbody>\n",
       "    <tr>\n",
       "      <th>0</th>\n",
       "      <td>vote_3725</td>\n",
       "      <td>POUR</td>\n",
       "      <td>Projet de loi constitutionnelle modifiant le c...</td>\n",
       "      <td>14 mai 2024</td>\n",
       "      <td>herve-delepinau</td>\n",
       "    </tr>\n",
       "    <tr>\n",
       "      <th>1</th>\n",
       "      <td>vote_3562</td>\n",
       "      <td>CONTRE</td>\n",
       "      <td>Projet de loi renforçant la lutte contre les d...</td>\n",
       "      <td>20 mars 2024</td>\n",
       "      <td>herve-delepinau</td>\n",
       "    </tr>\n",
       "    <tr>\n",
       "      <th>2</th>\n",
       "      <td>vote_3546</td>\n",
       "      <td>CONTRE</td>\n",
       "      <td>Projet de loi relatif à la gouvernance de la s...</td>\n",
       "      <td>19 mars 2024</td>\n",
       "      <td>herve-delepinau</td>\n",
       "    </tr>\n",
       "    <tr>\n",
       "      <th>3</th>\n",
       "      <td>vote_3461</td>\n",
       "      <td>ABSTENTION</td>\n",
       "      <td>Déclaration du gouvernement sur la stratégie d...</td>\n",
       "      <td>12 mars 2024</td>\n",
       "      <td>herve-delepinau</td>\n",
       "    </tr>\n",
       "    <tr>\n",
       "      <th>4</th>\n",
       "      <td>vote_c1</td>\n",
       "      <td>CONTRE</td>\n",
       "      <td>Projet de loi constitutionnelle inscrivant l'i...</td>\n",
       "      <td>04 mars 2024</td>\n",
       "      <td>herve-delepinau</td>\n",
       "    </tr>\n",
       "  </tbody>\n",
       "</table>\n",
       "</div>"
      ],
      "text/plain": [
       "     vote_id for_or_against  \\\n",
       "0  vote_3725           POUR   \n",
       "1  vote_3562         CONTRE   \n",
       "2  vote_3546         CONTRE   \n",
       "3  vote_3461     ABSTENTION   \n",
       "4    vote_c1         CONTRE   \n",
       "\n",
       "                                          vote_topic     vote_date  \\\n",
       "0  Projet de loi constitutionnelle modifiant le c...   14 mai 2024   \n",
       "1  Projet de loi renforçant la lutte contre les d...  20 mars 2024   \n",
       "2  Projet de loi relatif à la gouvernance de la s...  19 mars 2024   \n",
       "3  Déclaration du gouvernement sur la stratégie d...  12 mars 2024   \n",
       "4  Projet de loi constitutionnelle inscrivant l'i...  04 mars 2024   \n",
       "\n",
       "      politic_name  \n",
       "0  herve-delepinau  \n",
       "1  herve-delepinau  \n",
       "2  herve-delepinau  \n",
       "3  herve-delepinau  \n",
       "4  herve-delepinau  "
      ]
     },
     "execution_count": 3,
     "metadata": {},
     "output_type": "execute_result"
    }
   ],
   "source": [
    "df = pd.read_csv('rassemblement_national.csv')\n",
    "df.head()"
   ]
  },
  {
   "cell_type": "code",
   "execution_count": 4,
   "metadata": {},
   "outputs": [
    {
     "data": {
      "text/html": [
       "<div>\n",
       "<style scoped>\n",
       "    .dataframe tbody tr th:only-of-type {\n",
       "        vertical-align: middle;\n",
       "    }\n",
       "\n",
       "    .dataframe tbody tr th {\n",
       "        vertical-align: top;\n",
       "    }\n",
       "\n",
       "    .dataframe thead th {\n",
       "        text-align: right;\n",
       "    }\n",
       "</style>\n",
       "<table border=\"1\" class=\"dataframe\">\n",
       "  <thead>\n",
       "    <tr style=\"text-align: right;\">\n",
       "      <th></th>\n",
       "      <th>vote_id</th>\n",
       "      <th>for_or_against</th>\n",
       "      <th>vote_topic</th>\n",
       "      <th>vote_date</th>\n",
       "      <th>politic_name</th>\n",
       "    </tr>\n",
       "  </thead>\n",
       "  <tbody>\n",
       "    <tr>\n",
       "      <th>count</th>\n",
       "      <td>4284</td>\n",
       "      <td>4284</td>\n",
       "      <td>4284</td>\n",
       "      <td>4284</td>\n",
       "      <td>4284</td>\n",
       "    </tr>\n",
       "    <tr>\n",
       "      <th>unique</th>\n",
       "      <td>133</td>\n",
       "      <td>3</td>\n",
       "      <td>131</td>\n",
       "      <td>112</td>\n",
       "      <td>89</td>\n",
       "    </tr>\n",
       "    <tr>\n",
       "      <th>top</th>\n",
       "      <td>vote_1240</td>\n",
       "      <td>POUR</td>\n",
       "      <td>Loi de programmation militaire 2024-2030</td>\n",
       "      <td>08 nov. 2022</td>\n",
       "      <td>nicolas-meizonnet</td>\n",
       "    </tr>\n",
       "    <tr>\n",
       "      <th>freq</th>\n",
       "      <td>88</td>\n",
       "      <td>2516</td>\n",
       "      <td>139</td>\n",
       "      <td>150</td>\n",
       "      <td>80</td>\n",
       "    </tr>\n",
       "  </tbody>\n",
       "</table>\n",
       "</div>"
      ],
      "text/plain": [
       "          vote_id for_or_against                                vote_topic  \\\n",
       "count        4284           4284                                      4284   \n",
       "unique        133              3                                       131   \n",
       "top     vote_1240           POUR  Loi de programmation militaire 2024-2030   \n",
       "freq           88           2516                                       139   \n",
       "\n",
       "           vote_date       politic_name  \n",
       "count           4284               4284  \n",
       "unique           112                 89  \n",
       "top     08 nov. 2022  nicolas-meizonnet  \n",
       "freq             150                 80  "
      ]
     },
     "execution_count": 4,
     "metadata": {},
     "output_type": "execute_result"
    }
   ],
   "source": [
    "df.describe()"
   ]
  },
  {
   "cell_type": "code",
   "execution_count": 5,
   "metadata": {},
   "outputs": [
    {
     "data": {
      "image/png": "[encoded data removed]",
      "text/plain": [
       "<Figure size 1000x600 with 1 Axes>"
      ]
     },
     "metadata": {},
     "output_type": "display_data"
    }
   ],
   "source": [
    "# Make a nice visualisation for one politic of the dataframe\n",
    "# Select data for a specific politician\n",
    "politic_name = 'herve-delepinau'\n",
    "politic_data = df[df['politic_name'] == politic_name]\n",
    "\n",
    "# Plotting the distribution of votes\n",
    "plt.figure(figsize=(10, 6))\n",
    "sns.countplot(data=politic_data, x='for_or_against',\n",
    "              order=['POUR', 'CONTRE', 'ABSTENTION'])\n",
    "plt.title(f'Vote Distribution for {politic_name}')\n",
    "plt.xlabel('Vote Type')\n",
    "plt.ylabel('Count')\n",
    "plt.show()"
   ]
  },
  {
   "cell_type": "code",
   "execution_count": 13,
   "metadata": {},
   "outputs": [
    {
     "name": "stdout",
     "output_type": "stream",
     "text": [
      "['vote_3725' 'vote_3562' 'vote_3546' 'vote_3461' 'vote_c1' 'vote_3289'\n",
      " 'vote_3213' 'vote_3203' 'vote_2965' 'vote_2796' 'vote_2624' 'vote_2391'\n",
      " 'vote_2256' 'vote_2137' 'vote_2046' 'vote_1812' 'vote_1778' 'vote_1762'\n",
      " 'vote_1501' 'vote_1462' 'vote_1361' 'vote_1305' 'vote_1243' 'vote_1240'\n",
      " 'vote_972' 'vote_840' 'vote_823' 'vote_770' 'vote_672' 'vote_667'\n",
      " 'vote_652' 'vote_629' 'vote_623' 'vote_557' 'vote_361' 'vote_325'\n",
      " 'vote_269' 'vote_210' 'vote_208' 'vote_189' 'vote_184' 'vote_126'\n",
      " 'vote_131' 'vote_81' 'vote_44' 'vote_3058' 'vote_3048' 'vote_2826'\n",
      " 'vote_1482' 'vote_1362' 'vote_1370' 'vote_947' 'vote_838' 'vote_531'\n",
      " 'vote_530' 'vote_490' 'vote_4279' 'vote_4216' 'vote_4204' 'vote_4150'\n",
      " 'vote_4085' 'vote_4100' 'vote_4101' 'vote_4034' 'vote_4011' 'vote_3943'\n",
      " 'vote_3855' 'vote_3633' 'vote_3484' 'vote_3421' 'vote_3389' 'vote_3378'\n",
      " 'vote_3360' 'vote_3352' 'vote_3346' 'vote_3254' 'vote_3219' 'vote_3186'\n",
      " 'vote_3188' 'vote_3059' 'vote_2959' 'vote_2948' 'vote_2954' 'vote_2940'\n",
      " 'vote_2886' 'vote_2884' 'vote_2814' 'vote_3626' 'vote_3576' 'vote_3442'\n",
      " 'vote_3436' 'vote_3245' 'vote_2890' 'vote_2836' 'vote_2545' 'vote_1785'\n",
      " 'vote_1158' 'vote_510' 'vote_105' 'vote_3979' 'vote_2146' 'vote_315'\n",
      " 'vote_101' 'vote_3956' 'vote_3643' 'vote_3508' 'vote_1403' 'vote_3514'\n",
      " 'vote_2988' 'vote_931' 'vote_3341' 'vote_3342' 'vote_3891' 'vote_3569'\n",
      " 'vote_3570' 'vote_3512' 'vote_3434' 'vote_3433' 'vote_3441' 'vote_2869'\n",
      " 'vote_2289' 'vote_1099' 'vote_633' 'vote_3653' 'vote_3324' 'vote_2857'\n",
      " 'vote_2583' 'vote_2557' 'vote_1274' 'vote_3624' 'vote_3329' 'vote_736'\n",
      " 'vote_742']\n"
     ]
    },
    {
     "data": {
      "text/plain": [
       "133"
      ]
     },
     "execution_count": 13,
     "metadata": {},
     "output_type": "execute_result"
    }
   ],
   "source": [
    "print(df['vote_id'].unique())\n",
    "len(df['vote_id'].unique())"
   ]
  },
  {
   "cell_type": "code",
   "execution_count": null,
   "metadata": {},
   "outputs": [],
   "source": []
  }
 ],
 "metadata": {
  "kernelspec": {
   "display_name": "ds_py39",
   "language": "python",
   "name": "python3"
  },
  "language_info": {
   "codemirror_mode": {
    "name": "ipython",
    "version": 3
   },
   "file_extension": ".py",
   "mimetype": "text/x-python",
   "name": "python",
   "nbconvert_exporter": "python",
   "pygments_lexer": "ipython3",
   "version": "3.9.6"
  }
 },
 "nbformat": 4,
 "nbformat_minor": 2
}
